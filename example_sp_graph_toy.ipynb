{
 "cells": [
  {
   "cell_type": "code",
   "execution_count": 6,
   "id": "particular-chemical",
   "metadata": {},
   "outputs": [],
   "source": [
    "from src.graphs import SPGraph\n",
    "from src.mining import compute_communities, compute_linkage"
   ]
  },
  {
   "cell_type": "markdown",
   "id": "ahead-nicholas",
   "metadata": {},
   "source": [
    "### Create graph"
   ]
  },
  {
   "cell_type": "code",
   "execution_count": 16,
   "id": "chronic-scoop",
   "metadata": {},
   "outputs": [],
   "source": [
    "N = 100\n",
    "rho = 0.5\n",
    "k = 5\n",
    "comm_sizes = [50, 25]\n",
    "\n",
    "graph = SPGraph(N, rho, k, comm_sizes)"
   ]
  },
  {
   "cell_type": "markdown",
   "id": "italian-democracy",
   "metadata": {},
   "source": [
    "### Visualizing with PyVis"
   ]
  },
  {
   "cell_type": "code",
   "execution_count": 18,
   "id": "boolean-light",
   "metadata": {
    "scrolled": false
   },
   "outputs": [
    {
     "data": {
      "text/html": [
       "\n",
       "        <iframe\n",
       "            width=\"800\"\n",
       "            height=\"800\"\n",
       "            src=\"plots/network.html\"\n",
       "            frameborder=\"0\"\n",
       "            allowfullscreen\n",
       "        ></iframe>\n",
       "        "
      ],
      "text/plain": [
       "<IPython.lib.display.IFrame at 0x7fc1d3ab70d0>"
      ]
     },
     "execution_count": 18,
     "metadata": {},
     "output_type": "execute_result"
    }
   ],
   "source": [
    "net = graph.get_pyvis_net(level=1, notebook=True)\n",
    "net.show(name='plots/network.html')"
   ]
  },
  {
   "cell_type": "code",
   "execution_count": 19,
   "id": "supposed-uganda",
   "metadata": {},
   "outputs": [
    {
     "data": {
      "text/html": [
       "\n",
       "        <iframe\n",
       "            width=\"800\"\n",
       "            height=\"800\"\n",
       "            src=\"plots/network_level_0.html\"\n",
       "            frameborder=\"0\"\n",
       "            allowfullscreen\n",
       "        ></iframe>\n",
       "        "
      ],
      "text/plain": [
       "<IPython.lib.display.IFrame at 0x7fc1d3550730>"
      ]
     },
     "execution_count": 19,
     "metadata": {},
     "output_type": "execute_result"
    }
   ],
   "source": [
    "net = graph.get_pyvis_net(level=0, notebook=True)\n",
    "net.show(name='plots/network_level_0.html')"
   ]
  },
  {
   "cell_type": "markdown",
   "id": "southwest-daughter",
   "metadata": {},
   "source": [
    "### Calculating clusters"
   ]
  },
  {
   "cell_type": "code",
   "execution_count": 20,
   "id": "technological-force",
   "metadata": {},
   "outputs": [],
   "source": [
    "scales, scale2linkage = compute_linkage(\n",
    "    graph=graph,\n",
    "    scales_num=50,\n",
    "    r_num=60)\n",
    "\n",
    "communities = compute_communities(scale2linkage)"
   ]
  },
  {
   "cell_type": "markdown",
   "id": "durable-newport",
   "metadata": {},
   "source": [
    "### Visualizing with new clusters"
   ]
  },
  {
   "cell_type": "code",
   "execution_count": 21,
   "id": "nuclear-nickname",
   "metadata": {},
   "outputs": [],
   "source": [
    "for level in [0, 10, 20, 30, 40, 49]:\n",
    "    net = graph.get_pyvis_net(level=40, notebook=True, predicted_communities=communities)\n",
    "    net.show(f'plots/network_predicted_level_{level}.html')"
   ]
  },
  {
   "cell_type": "code",
   "execution_count": null,
   "id": "optional-palestine",
   "metadata": {},
   "outputs": [],
   "source": []
  }
 ],
 "metadata": {
  "kernelspec": {
   "display_name": "Python 3",
   "language": "python",
   "name": "python3"
  },
  "language_info": {
   "codemirror_mode": {
    "name": "ipython",
    "version": 3
   },
   "file_extension": ".py",
   "mimetype": "text/x-python",
   "name": "python",
   "nbconvert_exporter": "python",
   "pygments_lexer": "ipython3",
   "version": "3.8.2"
  }
 },
 "nbformat": 4,
 "nbformat_minor": 5
}
